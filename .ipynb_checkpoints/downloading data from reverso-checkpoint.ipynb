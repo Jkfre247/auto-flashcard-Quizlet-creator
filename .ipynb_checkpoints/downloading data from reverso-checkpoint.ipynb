{
 "cells": [
  {
   "cell_type": "code",
   "execution_count": 33,
   "id": "2eafbb78",
   "metadata": {},
   "outputs": [],
   "source": [
    "from bs4 import BeautifulSoup as bs\n",
    "import pandas as pd\n",
    "import numpy as np\n",
    "import csv\n",
    "import requests\n",
    "import time\n",
    "from selenium import webdriver\n",
    "from selenium.webdriver.support.ui import WebDriverWait\n",
    "from selenium.webdriver.common.by import By\n",
    "from selenium.webdriver.support import expected_conditions as EC\n",
    "from selenium.webdriver.chrome.options import Options\n",
    "from selenium.webdriver.chrome.service import Service\n",
    "from selenium.webdriver.common.keys import Keys\n"
   ]
  },
  {
   "cell_type": "code",
   "execution_count": 34,
   "id": "b930cac2",
   "metadata": {},
   "outputs": [
    {
     "name": "stderr",
     "output_type": "stream",
     "text": [
      "C:\\Users\\Korean Player\\AppData\\Local\\Temp\\ipykernel_17112\\2921041436.py:3: DeprecationWarning: executable_path has been deprecated, please pass in a Service object\n",
      "  driver = webdriver.Chrome(path)\n"
     ]
    }
   ],
   "source": [
    "#there will be a program that will take words from user\n",
    "path = \"chromedriver.exe\"\n",
    "driver = webdriver.Chrome(path)\n",
    "wordlist = [\"assertion\",\"abet\", \"abhor\"]\n",
    "url = \"https://context.reverso.net/translation/english-polish/\"\n",
    "login = \"sirsarulaku@gmail.com\"\n",
    "password = \"Plan123A\""
   ]
  },
  {
   "cell_type": "code",
   "execution_count": 35,
   "id": "3e7505ce",
   "metadata": {},
   "outputs": [
    {
     "name": "stdout",
     "output_type": "stream",
     "text": [
      "https://context.reverso.net/translation/english-polish/assertion\n"
     ]
    }
   ],
   "source": [
    "#there will be for loop\n",
    "link = url+wordlist[0]\n",
    "print(link)"
   ]
  },
  {
   "cell_type": "code",
   "execution_count": 36,
   "id": "24f34150",
   "metadata": {},
   "outputs": [],
   "source": [
    "driver.get(\"https://account.reverso.net/Account/Login?returnUrl=https%3A%2F%2Fcontext.reverso.net%2F&lang=en\")\n",
    "time.sleep(5)\n",
    "driver.find_element(by=By.ID, value=\"Email\").send_keys(login)\n",
    "time.sleep(5)\n",
    "driver.find_element(by=By.ID, value=\"Password\").send_keys(password)\n",
    "time.sleep(5)\n",
    "driver.find_element(by=By.CSS_SELECTOR, value=\".main-content button.btn-submit\").click()\n",
    "time.sleep(5)\n",
    "driver.find_element(by=By.ID, value = \"didomi-notice-agree-button\").click()\n",
    "time.sleep(5)\n",
    "\n",
    "\n",
    "\n",
    "#driver.get(link)\n",
    "time.sleep(5)"
   ]
  },
  {
   "cell_type": "code",
   "execution_count": 37,
   "id": "72a44448",
   "metadata": {},
   "outputs": [],
   "source": [
    "#print(driver.page_source)\n",
    "#main = driver.find_element_by_id(\"examples-content\")\n",
    "#examples = main.find_elements_by_class_name(\"example\")"
   ]
  },
  {
   "cell_type": "code",
   "execution_count": 38,
   "id": "5854d1e4",
   "metadata": {},
   "outputs": [],
   "source": [
    "#for example in examples:\n",
    "#    temp = example.find_element_by_class_name(\"text\").text\n",
    "#    temp = temp.replace(,\"___\")\n",
    "    "
   ]
  },
  {
   "cell_type": "code",
   "execution_count": 39,
   "id": "ba757580",
   "metadata": {},
   "outputs": [],
   "source": [
    "def collecting_data(wordlist, url, num):\n",
    "    file = open(f\"D:/Projekt_CV/english creating flashcards/context/context{num}.csv\", \"a\")\n",
    "    writer = csv.writer(file)\n",
    "    writer.writerow([\"Text\",\"Word\"])\n",
    "    for i in wordlist[\"Word\"]:\n",
    "        link = url+i\n",
    "        time.sleep(10)\n",
    "        driver.get(link)\n",
    "        main = driver.find_element(by=By.ID,value=\"examples-content\")\n",
    "        time.sleep(5)\n",
    "        examples = main.find_elements(by=By.CLASS_NAME,value=\"example\")\n",
    "        for example in examples:\n",
    "            writer.writerow([\n",
    "                example.find_element(by=By.CLASS_NAME,value=\"text\").text.replace(i,\"___\"),\n",
    "                i\n",
    "                            ])\n",
    "    file.close()"
   ]
  },
  {
   "cell_type": "code",
   "execution_count": 40,
   "id": "78c3c353",
   "metadata": {},
   "outputs": [],
   "source": [
    "#collecting_data(wordlist,url,1)"
   ]
  },
  {
   "cell_type": "code",
   "execution_count": 41,
   "id": "5e7136c5",
   "metadata": {},
   "outputs": [],
   "source": [
    "#pd.read_csv(\"context.csv\", encoding= 'unicode_escape')"
   ]
  },
  {
   "cell_type": "code",
   "execution_count": 45,
   "id": "2c1df861",
   "metadata": {},
   "outputs": [],
   "source": [
    "x= pd.read_csv(\"wordlist.csv\")"
   ]
  },
  {
   "cell_type": "code",
   "execution_count": 43,
   "id": "d756258a",
   "metadata": {},
   "outputs": [
    {
     "name": "stdout",
     "output_type": "stream",
     "text": [
      "homage\n",
      "hunt out\n",
      "ignominious\n",
      "illicit\n",
      "immense\n",
      "impeccable\n",
      "            Word\n",
      "181     hunt out\n",
      "182  ignominious\n",
      "183      illicit\n",
      "184      immense\n",
      "185   impeccable\n"
     ]
    }
   ],
   "source": [
    "z= x.iloc[180:]\n",
    "for i in z[\"Word\"]:\n",
    "    print(i)\n",
    "print(x.tail(5))"
   ]
  },
  {
   "cell_type": "code",
   "execution_count": 47,
   "id": "eae3999e",
   "metadata": {},
   "outputs": [
    {
     "name": "stdout",
     "output_type": "stream",
     "text": [
      "0\n"
     ]
    },
    {
     "ename": "KeyboardInterrupt",
     "evalue": "",
     "output_type": "error",
     "traceback": [
      "\u001b[1;31m---------------------------------------------------------------------------\u001b[0m",
      "\u001b[1;31mKeyboardInterrupt\u001b[0m                         Traceback (most recent call last)",
      "Input \u001b[1;32mIn [47]\u001b[0m, in \u001b[0;36m<cell line: 1>\u001b[1;34m()\u001b[0m\n\u001b[0;32m      4\u001b[0m \u001b[38;5;28;01melse\u001b[39;00m:\n\u001b[0;32m      5\u001b[0m     \u001b[38;5;28mprint\u001b[39m(i)\n\u001b[1;32m----> 6\u001b[0m     \u001b[43mcollecting_data\u001b[49m\u001b[43m(\u001b[49m\u001b[43mx\u001b[49m\u001b[43m[\u001b[49m\u001b[43mi\u001b[49m\u001b[43m:\u001b[49m\u001b[43mi\u001b[49m\u001b[38;5;241;43m+\u001b[39;49m\u001b[38;5;241;43m10\u001b[39;49m\u001b[43m]\u001b[49m\u001b[43m,\u001b[49m\u001b[43murl\u001b[49m\u001b[43m,\u001b[49m\u001b[43mi\u001b[49m\u001b[43m)\u001b[49m\n",
      "Input \u001b[1;32mIn [39]\u001b[0m, in \u001b[0;36mcollecting_data\u001b[1;34m(wordlist, url, num)\u001b[0m\n\u001b[0;32m      5\u001b[0m \u001b[38;5;28;01mfor\u001b[39;00m i \u001b[38;5;129;01min\u001b[39;00m wordlist[\u001b[38;5;124m\"\u001b[39m\u001b[38;5;124mWord\u001b[39m\u001b[38;5;124m\"\u001b[39m]:\n\u001b[0;32m      6\u001b[0m     link \u001b[38;5;241m=\u001b[39m url\u001b[38;5;241m+\u001b[39mi\n\u001b[1;32m----> 7\u001b[0m     \u001b[43mtime\u001b[49m\u001b[38;5;241;43m.\u001b[39;49m\u001b[43msleep\u001b[49m\u001b[43m(\u001b[49m\u001b[38;5;241;43m10\u001b[39;49m\u001b[43m)\u001b[49m\n\u001b[0;32m      8\u001b[0m     driver\u001b[38;5;241m.\u001b[39mget(link)\n\u001b[0;32m      9\u001b[0m     main \u001b[38;5;241m=\u001b[39m driver\u001b[38;5;241m.\u001b[39mfind_element(by\u001b[38;5;241m=\u001b[39mBy\u001b[38;5;241m.\u001b[39mID,value\u001b[38;5;241m=\u001b[39m\u001b[38;5;124m\"\u001b[39m\u001b[38;5;124mexamples-content\u001b[39m\u001b[38;5;124m\"\u001b[39m)\n",
      "\u001b[1;31mKeyboardInterrupt\u001b[0m: "
     ]
    }
   ],
   "source": [
    "for i in range(0,len(x),10):\n",
    "    if i==180:\n",
    "        collecting_data(x.iloc[180:],url,i)\n",
    "    else:\n",
    "        print(i)\n",
    "        collecting_data(x[i:i+10],url,i)"
   ]
  },
  {
   "cell_type": "code",
   "execution_count": 46,
   "id": "e0f05c9f",
   "metadata": {},
   "outputs": [
    {
     "data": {
      "text/html": [
       "<div>\n",
       "<style scoped>\n",
       "    .dataframe tbody tr th:only-of-type {\n",
       "        vertical-align: middle;\n",
       "    }\n",
       "\n",
       "    .dataframe tbody tr th {\n",
       "        vertical-align: top;\n",
       "    }\n",
       "\n",
       "    .dataframe thead th {\n",
       "        text-align: right;\n",
       "    }\n",
       "</style>\n",
       "<table border=\"1\" class=\"dataframe\">\n",
       "  <thead>\n",
       "    <tr style=\"text-align: right;\">\n",
       "      <th></th>\n",
       "      <th>Word</th>\n",
       "    </tr>\n",
       "  </thead>\n",
       "  <tbody>\n",
       "    <tr>\n",
       "      <th>0</th>\n",
       "      <td>archetype</td>\n",
       "    </tr>\n",
       "    <tr>\n",
       "      <th>1</th>\n",
       "      <td>arduous</td>\n",
       "    </tr>\n",
       "    <tr>\n",
       "      <th>2</th>\n",
       "      <td>arid</td>\n",
       "    </tr>\n",
       "    <tr>\n",
       "      <th>3</th>\n",
       "      <td>arouse</td>\n",
       "    </tr>\n",
       "    <tr>\n",
       "      <th>4</th>\n",
       "      <td>Asinine</td>\n",
       "    </tr>\n",
       "    <tr>\n",
       "      <th>5</th>\n",
       "      <td>assertion</td>\n",
       "    </tr>\n",
       "    <tr>\n",
       "      <th>6</th>\n",
       "      <td>assiduous</td>\n",
       "    </tr>\n",
       "    <tr>\n",
       "      <th>7</th>\n",
       "      <td>assuage</td>\n",
       "    </tr>\n",
       "    <tr>\n",
       "      <th>8</th>\n",
       "      <td>assume</td>\n",
       "    </tr>\n",
       "    <tr>\n",
       "      <th>9</th>\n",
       "      <td>astounding</td>\n",
       "    </tr>\n",
       "    <tr>\n",
       "      <th>10</th>\n",
       "      <td>adversity</td>\n",
       "    </tr>\n",
       "    <tr>\n",
       "      <th>11</th>\n",
       "      <td>affable</td>\n",
       "    </tr>\n",
       "    <tr>\n",
       "      <th>12</th>\n",
       "      <td>affectation</td>\n",
       "    </tr>\n",
       "    <tr>\n",
       "      <th>13</th>\n",
       "      <td>affluent</td>\n",
       "    </tr>\n",
       "    <tr>\n",
       "      <th>14</th>\n",
       "      <td>afoot</td>\n",
       "    </tr>\n",
       "    <tr>\n",
       "      <th>15</th>\n",
       "      <td>agile</td>\n",
       "    </tr>\n",
       "    <tr>\n",
       "      <th>16</th>\n",
       "      <td>aggrandize</td>\n",
       "    </tr>\n",
       "    <tr>\n",
       "      <th>17</th>\n",
       "      <td>ajar</td>\n",
       "    </tr>\n",
       "    <tr>\n",
       "      <th>18</th>\n",
       "      <td>alacrity</td>\n",
       "    </tr>\n",
       "    <tr>\n",
       "      <th>19</th>\n",
       "      <td>albeit</td>\n",
       "    </tr>\n",
       "  </tbody>\n",
       "</table>\n",
       "</div>"
      ],
      "text/plain": [
       "           Word\n",
       "0     archetype\n",
       "1       arduous\n",
       "2          arid\n",
       "3        arouse\n",
       "4       Asinine\n",
       "5     assertion\n",
       "6     assiduous\n",
       "7       assuage\n",
       "8        assume\n",
       "9    astounding\n",
       "10    adversity\n",
       "11      affable\n",
       "12  affectation\n",
       "13     affluent\n",
       "14        afoot\n",
       "15        agile\n",
       "16   aggrandize\n",
       "17         ajar\n",
       "18     alacrity\n",
       "19       albeit"
      ]
     },
     "execution_count": 46,
     "metadata": {},
     "output_type": "execute_result"
    }
   ],
   "source": [
    "x.head(20)"
   ]
  },
  {
   "cell_type": "code",
   "execution_count": null,
   "id": "786b773b",
   "metadata": {},
   "outputs": [],
   "source": []
  }
 ],
 "metadata": {
  "kernelspec": {
   "display_name": "Python 3 (ipykernel)",
   "language": "python",
   "name": "python3"
  },
  "language_info": {
   "codemirror_mode": {
    "name": "ipython",
    "version": 3
   },
   "file_extension": ".py",
   "mimetype": "text/x-python",
   "name": "python",
   "nbconvert_exporter": "python",
   "pygments_lexer": "ipython3",
   "version": "3.9.12"
  }
 },
 "nbformat": 4,
 "nbformat_minor": 5
}
