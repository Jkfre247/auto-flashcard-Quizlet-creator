{
 "cells": [
  {
   "cell_type": "code",
   "execution_count": 133,
   "id": "3f3c91a3",
   "metadata": {},
   "outputs": [],
   "source": [
    "import pandas as pd\n",
    "import numpy as np\n",
    "import time\n",
    "from selenium import webdriver\n",
    "from selenium.webdriver.support.ui import WebDriverWait\n",
    "from selenium.webdriver.common.by import By\n",
    "from selenium.webdriver.support import expected_conditions as EC\n",
    "from selenium.webdriver.chrome.options import Options\n",
    "from selenium.webdriver.chrome.service import Service\n",
    "from selenium.webdriver.common.keys import Keys\n",
    "import undetected_chromedriver as uc"
   ]
  },
  {
   "cell_type": "code",
   "execution_count": 134,
   "id": "28fb0969",
   "metadata": {},
   "outputs": [],
   "source": [
    "wordlist = pd.read_csv(\"context.csv\", encoding= 'unicode_escape')"
   ]
  },
  {
   "cell_type": "code",
   "execution_count": 135,
   "id": "40c4ec1e",
   "metadata": {},
   "outputs": [],
   "source": [
    "path = \"chromedriver.exe\"\n",
    "login = \"sirsarulaku@gmail.com\"\n",
    "password = \"Plan123A\"\n",
    "driver = uc.Chrome(use_subprocess=True)\n",
    "wait=WebDriverWait(driver,20)\n",
    "url = \"https://quizlet.com/goodbye\"\n",
    "driver.get(url)"
   ]
  },
  {
   "cell_type": "code",
   "execution_count": 136,
   "id": "46d5849b",
   "metadata": {},
   "outputs": [
    {
     "name": "stdout",
     "output_type": "stream",
     "text": [
      "elo\n"
     ]
    }
   ],
   "source": [
    "try:\n",
    "    wait.until(EC.visibility_of_element_located((By.ID,\"challenge-stage\"))).click()\n",
    "    wait.until(EC.visibility_of_element_located((By.ID,\"challenge-form\"))).click()\n",
    "except:\n",
    "    print(\"elo\")\n",
    "#driver.find_element_by_id(\"challenge-stage\").click()\n",
    "#driver.find_element_by_id(\"challenge-form\").click()"
   ]
  },
  {
   "cell_type": "code",
   "execution_count": 137,
   "id": "b87f7732",
   "metadata": {},
   "outputs": [],
   "source": [
    "\n",
    "wait.until(EC.visibility_of_element_located((By.ID,\"onetrust-accept-btn-handler\"))).click()\n",
    "wait.until(EC.visibility_of_element_located((By.CLASS_NAME,\"SiteNavLoginSection-loginButton\"))).click()\n",
    "\n",
    "\n"
   ]
  },
  {
   "cell_type": "code",
   "execution_count": 138,
   "id": "28b12cdc",
   "metadata": {},
   "outputs": [],
   "source": [
    "wait.until(EC.visibility_of_element_located((By.ID,\"username\"))).send_keys(login)\n",
    "wait.until(EC.visibility_of_element_located((By.ID,\"password\"))).send_keys(password)\n",
    "#wait.until(EC.visibility_of_element_located((By.CLASS_NAME,\"UIButton UIButton--fill UIButton--hero\"))).click()\n"
   ]
  },
  {
   "cell_type": "code",
   "execution_count": 139,
   "id": "eaf5bfc3",
   "metadata": {},
   "outputs": [],
   "source": [
    "time.sleep(5)\n",
    "wait.until(EC.visibility_of_element_located((By.CLASS_NAME,\"UILoadingButton\"))).click()"
   ]
  },
  {
   "cell_type": "code",
   "execution_count": 140,
   "id": "61b9a3fd",
   "metadata": {},
   "outputs": [],
   "source": [
    "#driver.get(\"https://quizlet.com/create-set\")\n"
   ]
  },
  {
   "cell_type": "code",
   "execution_count": 141,
   "id": "f4a6379a",
   "metadata": {},
   "outputs": [],
   "source": [
    "#wait.until(EC.visibility_of_element_located((By.CLASS_NAME,\"UITextarea-content\"))).click()\n",
    "#wait.until(EC.visibility_of_element_located((By.CLASS_NAME,\"AutoExpandTextarea-textarea\"))).send_keys(\"Nazwa seta\")"
   ]
  },
  {
   "cell_type": "code",
   "execution_count": 142,
   "id": "8c5d9f5b",
   "metadata": {},
   "outputs": [],
   "source": [
    "#wait.until(EC.visibility_of_element_located((By.XPATH,'//*[@id=\"SetPageTarget\"]/div/div[3]/div[1]/div/form/div[2]/div[1]/div/label[3]/span[1]'))).click()\n",
    "#wait.until(EC.visibility_of_element_located((By.XPATH,'//*[@id=\"SetPageTarget\"]/div/div[3]/div[1]/div/form/div[2]/div[1]/div/label[3]/span[2]/span/label/div/input'))).send_keys(\"/;\")\n"
   ]
  },
  {
   "cell_type": "code",
   "execution_count": 143,
   "id": "622ecfc4",
   "metadata": {},
   "outputs": [],
   "source": [
    "#x= wordlist.iloc[1]\n",
    "\n",
    "\n",
    "#print(wordlist.iloc[1][1])"
   ]
  },
  {
   "cell_type": "code",
   "execution_count": 144,
   "id": "ffb2a166",
   "metadata": {},
   "outputs": [],
   "source": [
    "def creating_data_set(wordlist):\n",
    "    driver.get(\"https://quizlet.com/create-set\")\n",
    "    time.sleep(3)\n",
    "    try:\n",
    "        wait.until(EC.visibility_of_element_located((By.XPATH,'/html/body/div[13]/div/div/div[1]'))).click()\n",
    "    except:\n",
    "        print(\"elo\")\n",
    "    time.sleep(3)\n",
    "    wait.until(EC.visibility_of_element_located((By.XPATH,'//*[@id=\"SetPageTarget\"]/div/div[1]/div[2]/div/div[1]/div'))).click()\n",
    "    wait.until(EC.visibility_of_element_located((By.XPATH,'//*[@id=\"SetPageTarget\"]/div/div[1]/div[2]/div/div[1]/div/label/input'))).send_keys(f'({\", \".join(pd.unique(wordlist[\"Word\"]))}) context test')\n",
    "    num_fc=5 # number of flashcard\n",
    "    num_wl=len(wordlist)\n",
    "    while(num_fc != num_wl):\n",
    "        num_fc+=1\n",
    "        time.sleep(2)\n",
    "        wait.until(EC.visibility_of_element_located((By.XPATH,'//*[@id=\"addRow\"]/span/button'))).click()\n",
    "    for i in range(num_wl):\n",
    "        time.sleep(4)\n",
    "        wait.until(EC.visibility_of_element_located((By.XPATH,f'//*[@id=\"SetPageTarget\"]/div/div[2]/div[2]/div/div[1]/div[6]/div[1]/div[{1+i*2}]/div/div[3]/div[1]/div[2]/div/div/div[1]/div/div/div[1]/div/p'))).send_keys(wordlist.iloc[i][0])\n",
    "        time.sleep(4)\n",
    "        wait.until(EC.visibility_of_element_located((By.XPATH,f'//*[@id=\"SetPageTarget\"]/div/div[2]/div[2]/div/div[1]/div[6]/div[1]/div[{1+i*2}]/div/div[3]/div[1]/div[2]/div/div/div[2]/div/div/div[2]/div[1]/div/p'))).send_keys(wordlist.iloc[i][1])\n",
    "    wait.until(EC.visibility_of_element_located((By.XPATH,'//*[@id=\"SetPageTarget\"]/div/div[2]/div/div/div[3]/div/button'))).click()"
   ]
  },
  {
   "cell_type": "code",
   "execution_count": 145,
   "id": "878e5774",
   "metadata": {},
   "outputs": [],
   "source": [
    "#wait.until(EC.visibility_of_element_located((By.XPATH,'//*[@id=\"SetPageTarget\"]/div/div[3]/div[1]/div/form/textarea'))).send_keys(\"\")"
   ]
  },
  {
   "cell_type": "code",
   "execution_count": 146,
   "id": "04e2b8be",
   "metadata": {},
   "outputs": [],
   "source": [
    "#wait.until(EC.visibility_of_element_located((By.XPATH,'//*[@id=\"addRow\"]/span/button'))).click()\n",
    "\n"
   ]
  },
  {
   "cell_type": "code",
   "execution_count": 147,
   "id": "2ab2d64a",
   "metadata": {},
   "outputs": [],
   "source": [
    "#wait.until(EC.visibility_of_element_located((By.CLASS_NAME,\"UITextarea-content\"))).click()\n",
    "#wait.until(EC.visibility_of_element_located((By.CLASS_NAME,\"AutoExpandTextarea-textarea\"))).send_keys(f'{\", \".join(pd.unique(wordlist[\"Word\"]))} context test')"
   ]
  },
  {
   "cell_type": "code",
   "execution_count": 148,
   "id": "1a8b5667",
   "metadata": {},
   "outputs": [],
   "source": [
    "#time.sleep(4)\n",
    "#wait.until(EC.visibility_of_element_located((By.XPATH,f'//*[@id=\"SetPageTarget\"]/div/div[2]/div[2]/div/div[1]/div[6]/div[1]/div[{1+1*2}]/div/div[3]/div[1]/div[2]/div/div/div[1]/div/div/div[1]/div/p'))).send_keys(wordlist.iloc[1][0])\n",
    "#time.sleep(4)\n",
    "#wait.until(EC.visibility_of_element_located((By.XPATH,f'//*[@id=\"SetPageTarget\"]/div/div[2]/div[2]/div/div[1]/div[6]/div[1]/div[{1+1*2}]/div/div[3]/div[1]/div[2]/div/div/div[2]/div/div/div[2]/div[1]/div/p'))).send_keys(wordlist.iloc[1][1])\n",
    "\n",
    "\n"
   ]
  },
  {
   "cell_type": "code",
   "execution_count": 149,
   "id": "8dbeb516",
   "metadata": {},
   "outputs": [],
   "source": [
    "creating_data_set(wordlist)"
   ]
  },
  {
   "cell_type": "code",
   "execution_count": 96,
   "id": "7be5d7e4",
   "metadata": {},
   "outputs": [],
   "source": [
    "#wait.until(EC.visibility_of_element_located((By.XPATH,'//*[@id=\"SetPageTarget\"]/div/div[2]/div[2]/div/div[2]/div/button'))).click()"
   ]
  },
  {
   "cell_type": "code",
   "execution_count": 151,
   "id": "b85b8c80",
   "metadata": {},
   "outputs": [],
   "source": [
    "wait.until(EC.visibility_of_element_located((By.XPATH,'//*[@id=\"SetPageTarget\"]/div/div[2]/div/div/div[3]/div/button'))).click()"
   ]
  },
  {
   "cell_type": "code",
   "execution_count": 152,
   "id": "ff63c039",
   "metadata": {},
   "outputs": [],
   "source": [
    "wait.until(EC.visibility_of_element_located((By.XPATH,'/html/body/div[12]/div/div/div[1]'))).click()"
   ]
  },
  {
   "cell_type": "code",
   "execution_count": null,
   "id": "8b065518",
   "metadata": {},
   "outputs": [],
   "source": []
  }
 ],
 "metadata": {
  "kernelspec": {
   "display_name": "Python 3 (ipykernel)",
   "language": "python",
   "name": "python3"
  },
  "language_info": {
   "codemirror_mode": {
    "name": "ipython",
    "version": 3
   },
   "file_extension": ".py",
   "mimetype": "text/x-python",
   "name": "python",
   "nbconvert_exporter": "python",
   "pygments_lexer": "ipython3",
   "version": "3.9.12"
  }
 },
 "nbformat": 4,
 "nbformat_minor": 5
}
