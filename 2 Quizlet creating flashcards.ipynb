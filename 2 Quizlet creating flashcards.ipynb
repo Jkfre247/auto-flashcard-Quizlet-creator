{
 "cells": [
  {
   "cell_type": "code",
   "execution_count": 158,
   "id": "3f3c91a3",
   "metadata": {},
   "outputs": [],
   "source": [
    "import pandas as pd\n",
    "import numpy as np\n",
    "import time\n",
    "from selenium import webdriver\n",
    "from selenium.webdriver.support.ui import WebDriverWait\n",
    "from selenium.webdriver.common.by import By\n",
    "from selenium.webdriver.support import expected_conditions as EC\n",
    "from selenium.webdriver.chrome.options import Options\n",
    "from selenium.webdriver.chrome.service import Service\n",
    "from selenium.webdriver.common.keys import Keys\n",
    "import undetected_chromedriver as uc\n",
    "from selenium.webdriver.common.action_chains import ActionChains"
   ]
  },
  {
   "cell_type": "code",
   "execution_count": 159,
   "id": "7cc1e95f",
   "metadata": {},
   "outputs": [],
   "source": [
    "wordlist = \"gotowy.csv\"\n",
    "password = \"\"\n",
    "login = \"\""
   ]
  },
  {
   "cell_type": "code",
   "execution_count": 160,
   "id": "a4a527a2",
   "metadata": {},
   "outputs": [],
   "source": [
    "class Quizlet:\n",
    "    # initialisation of the initial variables\n",
    "    def __init__(self, login, password, wordlist):\n",
    "        self.wordlist = pd.read_csv(wordlist)\n",
    "        self.login = login\n",
    "        self.password = password\n",
    "        self.driver = webdriver.Chrome()\n",
    "        self.wait = WebDriverWait(self.driver, 10)\n",
    "    # Passing through the website login\n",
    "    def login_quizlet(self):\n",
    "        #to switch, first you have to click on the login button and then click \n",
    "        #on it, unfortunately there is no change of link, only a switch to another window, so you cannot simply change the link.\n",
    "        url = \"https://quizlet.com/goodbye\"\n",
    "        self.driver.get(url)\n",
    "        action = ActionChains(self.driver)\n",
    "        block = self.wait.until(EC.visibility_of_element_located((By.CLASS_NAME,\"SiteNavLoginSection-loginButton\")))\n",
    "        action.move_to_element(block).perform()\n",
    "        block.click()\n",
    "        time.sleep(3)\n",
    "        #send your login and password and click on the login button\n",
    "        self.wait.until(EC.visibility_of_element_located((By.ID,\"username\"))).send_keys(self.login)\n",
    "        self.wait.until(EC.visibility_of_element_located((By.ID,\"password\"))).send_keys(self.password)\n",
    "        time.sleep(3)\n",
    "        self.wait.until(EC.visibility_of_element_located((By.CLASS_NAME,\"UILoadingButton\"))).click()\n",
    "        time.sleep(3)\n",
    "    \n",
    "    def create_set(self):\n",
    "        self.driver.get(\"https://quizlet.com/create-set\")\n",
    "        time.sleep(3)\n",
    "        #change the pop-up to a premum version (it may change so be careful)\n",
    "        self.wait.until(EC.visibility_of_element_located((By.CLASS_NAME, \"c13e2cpr\"))).click()\n",
    "        #set up title and description\n",
    "        self.wait.until(EC.visibility_of_element_located((By.XPATH, \"//textarea[@class='AutoExpandTextarea-textarea']\"))).send_keys(\"Nazwa x\")\n",
    "        self.wait.until(EC.visibility_of_element_located((By.XPATH, '//*[@id=\"SetPageTarget\"]/div/div[1]/div[2]/div/div[2]/div/label/div/div/div[2]/textarea'))).send_keys(\"Wordlist\")\n",
    "        num_fc = 5  # number of flashcard\n",
    "        num_wl = len(self.wordlist)\n",
    "        #add new flashcard until there are enough\n",
    "        while num_fc < num_wl:\n",
    "            num_fc += 1\n",
    "            time.sleep(1)\n",
    "            self.wait.until(EC.visibility_of_element_located((By.XPATH, '//*[@id=\"addRow\"]/span/button'))).click()\n",
    "        # go through each element by pasting in the definitions and explanations respectively\n",
    "        for i in range(num_wl):\n",
    "            time.sleep(1)\n",
    "            quizlet.wait.until(EC.visibility_of_element_located((By.XPATH, f'//*[@id=\"SetPageTarget\"]/div/div[2]/div[2]/div/div[1]/div[6]/div[1]/div[{1+i*2}]/div/div[3]/div[1]/div[2]/div/div/div[1]/div/div/div[1]/div/p'))).send_keys(quizlet.wordlist.iloc[i][0])\n",
    "            time.sleep(1)\n",
    "            quizlet.wait.until(EC.visibility_of_element_located((By.XPATH, f'//*[@id=\"SetPageTarget\"]/div/div[2]/div[2]/div/div[1]/div[6]/div[1]/div[{1+i*2}]/div/div[3]/div[1]/div[2]/div/div/div[2]/div/div/div[2]/div[1]/div/p'))).send_keys(\n",
    "                quizlet.wordlist.iloc[i][1])\n",
    "        # save\n",
    "        self.wait.until(EC.visibility_of_element_located((By.CLASS_NAME, 'CreateSetPage-publishButton'))).click()\n",
    "        "
   ]
  },
  {
   "cell_type": "code",
   "execution_count": 1,
   "id": "f59e724d",
   "metadata": {},
   "outputs": [],
   "source": [
    "quizlet = Quizlet(login,password,wordlist)\n",
    "quizlet.login_quizlet()\n",
    "quizlet.create_set()"
   ]
  }
 ],
 "metadata": {
  "kernelspec": {
   "display_name": "Python 3 (ipykernel)",
   "language": "python",
   "name": "python3"
  },
  "language_info": {
   "codemirror_mode": {
    "name": "ipython",
    "version": 3
   },
   "file_extension": ".py",
   "mimetype": "text/x-python",
   "name": "python",
   "nbconvert_exporter": "python",
   "pygments_lexer": "ipython3",
   "version": "3.9.12"
  }
 },
 "nbformat": 4,
 "nbformat_minor": 5
}
